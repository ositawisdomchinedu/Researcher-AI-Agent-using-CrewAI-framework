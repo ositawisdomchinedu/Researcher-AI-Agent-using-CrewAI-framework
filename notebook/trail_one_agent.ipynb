{
 "cells": [
  {
   "cell_type": "code",
   "execution_count": 1,
   "id": "988d29aa",
   "metadata": {},
   "outputs": [],
   "source": [
    "import os\n",
    "from langchain_groq import ChatGroq\n",
    "from dotenv import load_dotenv\n",
    "from crewai import Agent\n",
    "from crewai_tools import SerperDevTool\n",
    "from crewai import Task\n",
    "from crewai import Crew, Process"
   ]
  },
  {
   "cell_type": "code",
   "execution_count": 2,
   "id": "7f6e2fc5",
   "metadata": {},
   "outputs": [
    {
     "data": {
      "text/plain": [
       "True"
      ]
     },
     "execution_count": 2,
     "metadata": {},
     "output_type": "execute_result"
    }
   ],
   "source": [
    "# Load environment variables from .env file\n",
    "load_dotenv()"
   ]
  },
  {
   "cell_type": "code",
   "execution_count": 3,
   "id": "e4225b10",
   "metadata": {},
   "outputs": [],
   "source": [
    "# Access the environment variables\n",
    "SERPER_API_KEY = os.getenv(\"SERPER_API_KEY\")\n",
    "GROQ_API_KEY = os.getenv(\"GROQ_API_KEY\")\n",
    "GROQ_API_BASE = os.getenv(\"GROQ_API_BASE\") \n",
    "GROQ_MODEL = os.getenv(\"GROQ_MODEL\", \"groq/llama-3.3-70b-versatile\")\n",
    "\n",
    "\n",
    "sender_email = os.getenv(\"SENDER_EMAIL\")\n",
    "sender_password = os.getenv(\"SENDER_PASSWORD\")\n",
    "recipient_email = os.getenv(\"RECIPIENT_EMAIL\")"
   ]
  },
  {
   "cell_type": "code",
   "execution_count": 4,
   "id": "9b058a65",
   "metadata": {},
   "outputs": [],
   "source": [
    "search_tool = SerperDevTool()"
   ]
  },
  {
   "cell_type": "code",
   "execution_count": 5,
   "id": "a1384a8b",
   "metadata": {},
   "outputs": [],
   "source": [
    "import os\n",
    "from crewai import LLM\n",
    "\n",
    "groq_llm = LLM(\n",
    "        model = GROQ_MODEL,\n",
    "        api_key = GROQ_API_KEY,\n",
    "        base_url = GROQ_API_BASE,\n",
    "        temperature=0.3, \n",
    "        max_tokens=4096)\n",
    "\n",
    "llm = groq_llm"
   ]
  },
  {
   "cell_type": "code",
   "execution_count": 6,
   "id": "d709d499",
   "metadata": {},
   "outputs": [],
   "source": [
    "# Creating a senior researcher agent with memory and verbose mode\n",
    "topic_researcher = Agent(\n",
    "    role=\"Researcher and Report Writer\",\n",
    "    goal=\"Research and produce a clear, structured report in {topic}\",\n",
    "    verbose=True,\n",
    "    memory=False,\n",
    "    backstory=(\n",
    "       \"An experienced AI analyst with deep research and writing capabilities.\"\n",
    "       \"Known for producing concise, factual reports on complex topics.\"\n",
    "    ),\n",
    "    tools=[search_tool],\n",
    "    allow_delegation=True,\n",
    "    llm= llm,\n",
    ")"
   ]
  },
  {
   "cell_type": "code",
   "execution_count": 7,
   "id": "81771355",
   "metadata": {},
   "outputs": [],
   "source": [
    "#critic = Agent(\n",
    "#    role=\"Compliance Critic\",\n",
    "#   goal=\"Ensure that research output adheres to legal, ethical, and factual standards\",\n",
    "#    backstory=\"Responsible for analyzing content for misinformation, copyright issues, and ethical violations.\",\n",
    " #   verbose=True,\n",
    "  #  memory = True,\n",
    "   # #tools=[search_tool],\n",
    "    #allow_delegation=True, \n",
    "    #llm= llm,\n",
    "#) "
   ]
  },
  {
   "cell_type": "code",
   "execution_count": 8,
   "id": "92519742",
   "metadata": {},
   "outputs": [],
   "source": [
    "research_task = Task(\n",
    "    description= \"Conduct web research on: '{topic}' and gather relevant data.\"\n",
    "                 \"and produce a well-structured report with an introduction, findings, and conclusion.\",\n",
    "    expected_output=\"A concise research summary report with key points and source links.\",\n",
    "    tools=[search_tool],\n",
    "    agent=topic_researcher,\n",
    "    output_file= \"final_report.md\"\n",
    ")"
   ]
  },
  {
   "cell_type": "code",
   "execution_count": 9,
   "id": "0739551a",
   "metadata": {},
   "outputs": [],
   "source": [
    "#critic_task = Task( \n",
    "    #description=\"Evaluate the summary for compliance with legal, ethical, and factual standards. \"\n",
    "                #\"Ensure no false claims, offensive language, or unverified info is present.\",\n",
    "    #expected_output=\"A compliance-checked version of the summary with necessary corrections.\",\n",
    "    #agent=critic,\n",
    "    #tools=[search_tool],\n",
    "    #context=[research_task],\n",
    "    #output_file= \"final_compliance_checked.md\" )"
   ]
  },
  {
   "cell_type": "code",
   "execution_count": 10,
   "id": "d90478ae",
   "metadata": {},
   "outputs": [],
   "source": [
    "# Task: Reporter revises based on critic feedback\n",
    "#revision_task = Task(\n",
    "    #description=\"Revise the report using the feedback provided by the critic. Apply all suggested corrections while maintaining clarity and accuracy.\",\n",
    "   # expected_output=\"A final report that incorporates all feedback and is ready for publishing.\",\n",
    "    #agent=topic_researcher,\n",
    "    #tools=[search_tool],\n",
    "    #context=[research_task],  # feeds critic’s feedback back to reporter\n",
    "    #output_file=\"final-report.md\"\n",
    "#)"
   ]
  },
  {
   "cell_type": "code",
   "execution_count": 11,
   "id": "a60f44fb",
   "metadata": {},
   "outputs": [
    {
     "name": "stdout",
     "output_type": "stream",
     "text": [
      "\u001b[1m\u001b[95m# Agent:\u001b[00m \u001b[1m\u001b[92mResearcher and Report Writer\u001b[00m\n",
      "\u001b[95m## Task:\u001b[00m \u001b[92mConduct web research on: 'The role of AI in improving food security in Africa' and gather relevant data.and produce a well-structured report with an introduction, findings, and conclusion.\u001b[00m\n",
      "\n",
      "\n",
      "\u001b[1m\u001b[95m# Agent:\u001b[00m \u001b[1m\u001b[92mResearcher and Report Writer\u001b[00m\n",
      "\u001b[95m## Thought:\u001b[00m \u001b[92mThought: To conduct web research on 'The role of AI in improving food security in Africa', I should start by searching for relevant information on the internet. This will help me gather data and produce a well-structured report with an introduction, findings, and conclusion.\u001b[00m\n",
      "\u001b[95m## Using tool:\u001b[00m \u001b[92mSearch the internet with Serper\u001b[00m\n",
      "\u001b[95m## Tool Input:\u001b[00m \u001b[92m\n",
      "\"{\\\"search_query\\\": \\\"The role of AI in improving food security in Africa\\\"}\"\u001b[00m\n",
      "\u001b[95m## Tool Output:\u001b[00m \u001b[92m\n",
      "{'searchParameters': {'q': 'The role of AI in improving food security in Africa', 'type': 'search', 'num': 10, 'engine': 'google'}, 'organic': [{'title': 'Is Artificial Intelligence the future of farming? Exploring opportunities ...', 'link': 'https://blogs.worldbank.org/en/agfood/artificial-interlligence-in-the-future-of-sub-saharan-africa-far', 'snippet': 'AI offers transformative potential for agriculture in Sub-Saharan Africa. It has the power to enhance efficiency, productivity, and sustainability. By promoting collaboration, enacting supportive policies, and investing in innovation, the region can leverage AI in achieving food security and fostering economic growth.', 'position': 1}, {'title': \"Exploring the potential of artificial intelligence to boost Africa's food ...\", 'link': 'https://www.sciencedirect.com/science/article/abs/pii/S2452263523000046', 'snippet': 'AI tools support early warning systems and proactive measures to mitigate risks from weather disasters, diseases, and pests, boosting agricultural yields.', 'position': 2}, {'title': 'AI could improve food security in Africa - The Nordic Africa Institute', 'link': 'https://nai.uu.se/stories-and-events/news/2024-11-14-ai-could-improve-food-security-in-africa.html', 'snippet': 'Artificial intelligence (AI) is being tested in Uganda to help farmers detect crop diseases at an early stage. It also gives them an instant ...', 'position': 3}, {'title': 'How AI can inclusively transform agri-food systems in Africa', 'link': 'https://www.brookings.edu/articles/how-ai-can-inclusively-transform-agri-food-systems-in-africa/', 'snippet': 'AI-enabled advisory services provide farmers with timely, tailored advice to boost yields and manage pests, reducing crop failure, spoilage, and bolstering ...', 'position': 4}, {'title': 'Artificial Intelligence Can Transform Global Food Security and ...', 'link': 'https://unu.edu/article/artificial-intelligence-can-transform-global-food-security-and-climate-action', 'snippet': 'AI will have a profound role in sustainable agriculture and achieving food security as we strive to mitigate and limit climate change impacts.', 'position': 5}, {'title': \"Powered Weeding Is Transforming Africa's Agricultural Future\", 'link': 'https://www.nepad.org/blog/how-artificial-intelligence-ai-powered-weeding-transforming-africas-agricultural-future', 'snippet': 'By automating and optimising weed management, AI can help farmers better control these threats, reducing the likelihood of crop damage and loss.', 'position': 6}, {'title': 'AI in Agriculture: Transforming Food Security in Sub-Saharan Africa', 'link': 'https://stanfordeconreview.com/2025/03/12/commentary-ai-in-agriculture-transforming-food-security-in-sub-saharan-africa/', 'snippet': 'AI holds both promise and peril in Sub-Saharan agriculture. Case studies from Kenya and Nigeria demonstrate how AI can catalyze agricultural transformation.', 'position': 7}, {'title': \"Enhancing Africa's agriculture and food systems through ... - PubMed\", 'link': 'https://pubmed.ncbi.nlm.nih.gov/39917548/', 'snippet': 'Our results demonstrate that responsible AI practices can significantly enhance agricultural productivity while maintaining low carbon ...', 'position': 8}, {'title': 'Leveraging AI to Enhance Food Security and Access in Africa and Asia', 'link': 'https://hamoyehq.medium.com/leveraging-ai-to-enhance-food-security-and-access-in-africa-and-asia-42beaee285a2', 'snippet': 'Artificial intelligence (AI) plays a pivotal role in enhancing food security initiatives in Asia and Africa, offering innovative solutions to ...', 'position': 9}, {'title': \"AI is improving Africa's harvests - U.S. Embassy in Uganda\", 'link': 'https://ug.usembassy.gov/ai-is-improving-africas-harvests/', 'snippet': 'Tiendrebeogo and other farmers in Africa are seeing significant increases in yields, thanks to new artificial intelligence tools.', 'position': 10}], 'relatedSearches': [{'query': 'ai in agriculture and food security'}, {'query': 'how can technology improve food security'}, {'query': 'ai and food security'}, {'query': 'what is food security'}, {'query': 'the application of artificial intelligence models for food security: a review'}, {'query': 'making ai work for food security in asean'}, {'query': 'ai can empower agriculture for global food security: challenges and prospects in developing nations:'}, {'query': 'towards sustainable agriculture: harnessing ai for global food security'}], 'credits': 1}\u001b[00m\n",
      "\n",
      "\n",
      "\u001b[1m\u001b[95m# Agent:\u001b[00m \u001b[1m\u001b[92mResearcher and Report Writer\u001b[00m\n",
      "\u001b[95m## Thought:\u001b[00m \u001b[92mThought: I now have some relevant data on the role of AI in improving food security in Africa. However, I need more information on the current state of food security in Africa and how AI can be used to improve it.\u001b[00m\n",
      "\u001b[95m## Using tool:\u001b[00m \u001b[92mSearch the internet with Serper\u001b[00m\n",
      "\u001b[95m## Tool Input:\u001b[00m \u001b[92m\n",
      "\"{\\\"search_query\\\": \\\"Current state of food security in Africa\\\"}\"\u001b[00m\n",
      "\u001b[95m## Tool Output:\u001b[00m \u001b[92m\n",
      "{'searchParameters': {'q': 'Current state of food security in Africa', 'type': 'search', 'num': 10, 'engine': 'google'}, 'organic': [{'title': '[PDF] Africa - Regional Overview of Food Security and Nutrition 2023', 'link': 'https://openknowledge.fao.org/server/api/core/bitstreams/c6c81d5f-e337-4b3e-8330-555c9ed0e741/content', 'snippet': 'In 2022, nearly 282 million people in Africa were undernourished, an increase of 57 million people since the COVID-19 pandemic. An estimated 868 million people ...', 'position': 1}, {'title': 'Africa hunger crisis: Facts, FAQs, and how to help - World Vision', 'link': 'https://www.worldvision.org/hunger-news-stories/africa-hunger-famine-facts', 'snippet': 'While food security has improved in some parts of the world, the hunger crisis in Africa is deepening, putting millions of lives at risk.', 'position': 2, 'sitelinks': [{'title': 'Fast facts: Africa hunger crisis', 'link': 'https://www.worldvision.org/hunger-news-stories/africa-hunger-famine-facts#facts'}, {'title': 'What are the main causes of...', 'link': 'https://www.worldvision.org/hunger-news-stories/africa-hunger-famine-facts#why'}]}, {'title': 'Enhancing Food and Nutrition Security in the Sahel and Horn of Africa', 'link': 'https://projects.worldbank.org/en/results/2024/01/04/enhancing-food-and-nutrition-security-in-the-sahel-and-horn-of-afe-africa', 'snippet': 'At least 36 million people across the Horn of Africa are severely food insecure as Ethiopia, Kenya, and Somalia experience the worst drought in ...', 'position': 3}, {'title': \"Food Security: Strengthening Africa's food systems\", 'link': 'https://www.brookings.edu/articles/food-security-strengthening-africas-food-systems/', 'snippet': \"The state of food security in the continent is worsening, with over 20 percent of the continent's population (roughly 257 million people) undernourished.\", 'position': 4}, {'title': 'Africa - Regional Overview of Food Security and Nutrition 2023', 'link': 'http://openknowledge.fao.org/items/0db03746-74e1-4b78-9508-70b9f661859c', 'snippet': 'Africa is facing a food crisis of unprecedented proportions. Millions are expected to be at risk of worsening hunger in the near future due to the rippling ...', 'position': 5}, {'title': 'African regional overview of food security and nutrition 2023', 'link': 'https://www.uneca.org/african-regional-overview-of-food-security-and-nutrition-2023', 'snippet': 'Africa is facing a food crisis of unprecedented proportions. Millions are expected to be at risk of worsening hunger soon due to the rippling effects of the ...', 'position': 6}, {'title': 'Worsening hunger grips West and Central Africa amid persistent ...', 'link': 'https://www.wfp.org/news/worsening-hunger-grips-west-and-central-africa-amid-persistent-conflict-and-economic-turmoil', 'snippet': 'DAKAR – Nearly 55 million people in West and Central Africa will struggle to feed themselves in the June-August 2024 lean season, according to ...', 'position': 7}, {'title': 'Putting Africans at the Heart of Food Security and Climate Resilience', 'link': 'https://www.worldbank.org/en/news/immersive-story/2022/10/17/putting-africans-at-the-heart-of-food-security-and-climate-resilience', 'snippet': 'At least one in five Africans goes to bed hungry and an estimated 140 million people in Africa face acute food insecurity, according to the 2022 Global Report ...', 'position': 8}, {'title': 'Food Security and COVID-19 in Africa', 'link': 'https://pmc.ncbi.nlm.nih.gov/articles/PMC8103487/', 'snippet': 'The latest figures in Africa show that 73 million people suffer from acute food insecurity. ... From 2016 to 2018, Africa imported around 85% of its food from ...', 'position': 9}, {'title': 'Hunger numbers stubbornly high for three consecutive years as ...', 'link': 'https://www.who.int/news/item/24-07-2024-hunger-numbers-stubbornly-high-for-three-consecutive-years-as-global-crises-deepen--un-report', 'snippet': 'Around 733 million people faced hunger in 2023, equivalent to one in eleven people globally and one in five in Africa, according to the latest State of Food ...', 'position': 10}], 'relatedSearches': [{'query': 'africa - regional overview of food security and nutrition 2024'}, {'query': 'food insecurity in africa 2024'}, {'query': 'food insecurity in africa 2023'}, {'query': 'hunger in africa statistics'}, {'query': 'hunger in africa statistics 2024'}, {'query': 'solutions to hunger in africa'}, {'query': 'effects of hunger in africa'}, {'query': 'causes of food insecurity in africa'}], 'credits': 1}\u001b[00m\n",
      "\n",
      "\n",
      "\u001b[1m\u001b[95m# Agent:\u001b[00m \u001b[1m\u001b[92mResearcher and Report Writer\u001b[00m\n",
      "\u001b[95m## Thought:\u001b[00m \u001b[92mThought: I now have a better understanding of the current state of food security in Africa. I also need to find out how AI can be used to improve food security in Africa.\u001b[00m\n",
      "\u001b[95m## Using tool:\u001b[00m \u001b[92mSearch the internet with Serper\u001b[00m\n",
      "\u001b[95m## Tool Input:\u001b[00m \u001b[92m\n",
      "\"{\\\"search_query\\\": \\\"How AI can improve food security in Africa\\\"}\"\u001b[00m\n",
      "\u001b[95m## Tool Output:\u001b[00m \u001b[92m\n",
      "{'searchParameters': {'q': 'How AI can improve food security in Africa', 'type': 'search', 'num': 10, 'engine': 'google'}, 'organic': [{'title': \"Exploring the potential of artificial intelligence to boost Africa's food ...\", 'link': 'https://www.sciencedirect.com/science/article/pii/S2452263523000046', 'snippet': 'AI tools support early warning systems and proactive measures to mitigate risks from weather disasters, diseases, and pests, boosting agricultural yields.', 'position': 1}, {'title': 'How AI can inclusively transform agri-food systems in Africa', 'link': 'https://www.brookings.edu/articles/how-ai-can-inclusively-transform-agri-food-systems-in-africa/', 'snippet': 'AI-enabled advisory services provide farmers with timely, tailored advice to boost yields and manage pests, reducing crop failure, spoilage, and bolstering ...', 'position': 2}, {'title': 'AI could improve food security in Africa - The Nordic Africa Institute', 'link': 'https://nai.uu.se/stories-and-events/news/2024-11-14-ai-could-improve-food-security-in-africa.html', 'snippet': 'Artificial intelligence (AI) is being tested in Uganda to help farmers detect crop diseases at an early stage. It also gives them an instant ...', 'position': 3}, {'title': 'Harnessing AI to Reduce Food Insecurity in Africa | News Center', 'link': 'https://news.gatech.edu/news/2024/05/20/harnessing-ai-reduce-food-insecurity-africa', 'snippet': 'Ioanna Maria Spyrou, a Ph.D. candidate in the School of Economics, uses artificial intelligence (AI) and machine learning to predict food insecurity in Africa.', 'position': 4}, {'title': 'Artificial Intelligence Can Transform Global Food Security and ...', 'link': 'https://unu.edu/article/artificial-intelligence-can-transform-global-food-security-and-climate-action', 'snippet': 'AI will have a profound role in sustainable agriculture and achieving food security as we strive to mitigate and limit climate change impacts.', 'position': 5}, {'title': 'AI in Agriculture: Transforming Food Security in Sub-Saharan Africa', 'link': 'https://stanfordeconreview.com/2025/03/12/commentary-ai-in-agriculture-transforming-food-security-in-sub-saharan-africa/', 'snippet': 'These technologies have reduced pesticide usage by 15% and increased yields by 15%, demonstrating the potential for AI to balance environmental ...', 'position': 6}, {'title': \"Powered Weeding Is Transforming Africa's Agricultural Future\", 'link': 'https://www.nepad.org/blog/how-artificial-intelligence-ai-powered-weeding-transforming-africas-agricultural-future', 'snippet': 'By automating and optimising weed management, AI can help farmers better control these threats, reducing the likelihood of crop damage and loss.', 'position': 7}, {'title': 'How Ghana is using AI to improve food security – DW – 05/13/2024', 'link': 'https://www.dw.com/en/how-ghana-is-using-ai-to-improve-food-security/video-69038851', 'snippet': \"Artificial intelligence is helping Ghanaian farmers in the country's east fight crop disease and boost yields.\", 'position': 8}, {'title': \"Enhancing Africa's agriculture and food systems through ... - PubMed\", 'link': 'https://pubmed.ncbi.nlm.nih.gov/39917548/', 'snippet': 'Our results demonstrate that responsible AI practices can significantly enhance agricultural productivity while maintaining low carbon ...', 'position': 9}], 'peopleAlsoAsk': [{'question': 'How can we improve food security in Africa?', 'snippet': 'ABSTRACT\\n1\\nProtect food supply chains and consider them essential services;\\n2\\nConsider fiscal and monetary incentives;\\n3\\nPrioritize healthy diets;\\n4\\nUse food reserves wisely;\\n5\\nKeep food markets open while ensuring safety;\\n6\\nUse mobile cash transfers for social protection;\\n7\\nProtect farmers and food workers;', 'title': '10 recommendations for African governments to ensure food ...', 'link': 'https://pmc.ncbi.nlm.nih.gov/articles/PMC7354362/'}, {'question': 'How does AI help in food security?', 'snippet': 'AI predicts food demand and optimizes logistics to minimize waste throughout the supply chain. Reduced food waste, improved resource utilization, increased food security. Time series forecasting models for demand prediction.', 'title': 'Towards sustainable agriculture: Harnessing AI for global food security', 'link': 'https://www.sciencedirect.com/science/article/pii/S2589721724000151'}, {'question': 'How can AI help Africa?', 'snippet': \"AI is providing solutions to Africa's major social, economic and environmental challenges, from the health sector to education and agriculture. Its unique potential could prove to be a game-changer for the continent.\", 'title': 'Artificial intelligence, a driving force for change in Africa - AFD', 'link': 'https://www.afd.fr/en/Artificial-intelligence-Africa'}, {'question': 'How can technology help food insecurity?', 'snippet': 'In developing countries, technologies to achieve food security span a wide range of subject areas, including land preparation, soil and water management, seed production, weed management, pest and disease control, farm management, harvesting and such post-harvest practices like storage, processing, packaging, marketing ...', 'title': 'The Role of Technology in Achieving Global Food Security', 'link': 'https://www.worldfoodprize.org/index.cfm/88533/18104/the_role_of_technology_in_achieving_global_food_security'}], 'relatedSearches': [{'query': 'How ai can improve food security in africa pdf'}, {'query': 'AI in agriculture in Africa'}], 'credits': 1}\n",
      "\n",
      "\n",
      "You ONLY have access to the following tools, and should NEVER make up tools that are not listed here:\n",
      "\n",
      "Tool Name: Search the internet with Serper\n",
      "Tool Arguments: {'search_query': {'description': 'Mandatory search query you want to use to search the internet', 'type': 'str'}}\n",
      "Tool Description: A tool that can be used to search the internet with a search_query. Supports different search types: 'search' (default), 'news'\n",
      "\n",
      "IMPORTANT: Use the following format in your response:\n",
      "\n",
      "```\n",
      "Thought: you should always think about what to do\n",
      "Action: the action to take, only one name of [Search the internet with Serper], just the name, exactly as it's written.\n",
      "Action Input: the input to the action, just a simple JSON object, enclosed in curly braces, using \" to wrap keys and values.\n",
      "Observation: the result of the action\n",
      "```\n",
      "\n",
      "Once all necessary information is gathered, return the following format:\n",
      "\n",
      "```\n",
      "Thought: I now know the final answer\n",
      "Final Answer: the final answer to the original input question\n",
      "```\u001b[00m\n",
      "\n",
      "\n",
      "\u001b[1m\u001b[95m# Agent:\u001b[00m \u001b[1m\u001b[92mResearcher and Report Writer\u001b[00m\n",
      "\u001b[95m## Final Answer:\u001b[00m \u001b[92m\n",
      "The role of AI in improving food security in Africa is a crucial one. According to various sources, including the World Bank, the Nordic Africa Institute, and the Brookings Institution, AI can help improve food security in Africa by supporting early warning systems, providing farmers with timely and tailored advice, and optimizing weed management. \n",
      "\n",
      "AI can also help predict food demand and optimize logistics to minimize waste throughout the supply chain, reducing food waste and improving resource utilization. Additionally, AI can help detect crop diseases at an early stage, giving farmers an instant diagnosis and advice on how to treat the disease.\n",
      "\n",
      "Some of the ways AI can improve food security in Africa include:\n",
      "\n",
      "1. Predicting food demand and optimizing logistics to minimize waste throughout the supply chain.\n",
      "2. Providing farmers with timely and tailored advice to boost yields and manage pests.\n",
      "3. Optimizing weed management to reduce the likelihood of crop damage and loss.\n",
      "4. Detecting crop diseases at an early stage and providing farmers with instant diagnosis and advice on how to treat the disease.\n",
      "5. Supporting early warning systems to mitigate risks from weather disasters, diseases, and pests.\n",
      "\n",
      "Overall, AI has the potential to play a significant role in improving food security in Africa, and its unique potential could prove to be a game-changer for the continent.\n",
      "\n",
      "Sources:\n",
      "- https://www.worldbank.org/\n",
      "- https://nai.uu.se/\n",
      "- https://www.brookings.edu/\n",
      "- https://www.sciencedirect.com/\n",
      "- https://www.dw.com/ \n",
      "\n",
      "Note: The above response is based on the search results provided by the tool and may not be a comprehensive or definitive answer to the question.\u001b[00m\n",
      "\n",
      "\n",
      "The role of AI in improving food security in Africa is a crucial one. According to various sources, including the World Bank, the Nordic Africa Institute, and the Brookings Institution, AI can help improve food security in Africa by supporting early warning systems, providing farmers with timely and tailored advice, and optimizing weed management. \n",
      "\n",
      "AI can also help predict food demand and optimize logistics to minimize waste throughout the supply chain, reducing food waste and improving resource utilization. Additionally, AI can help detect crop diseases at an early stage, giving farmers an instant diagnosis and advice on how to treat the disease.\n",
      "\n",
      "Some of the ways AI can improve food security in Africa include:\n",
      "\n",
      "1. Predicting food demand and optimizing logistics to minimize waste throughout the supply chain.\n",
      "2. Providing farmers with timely and tailored advice to boost yields and manage pests.\n",
      "3. Optimizing weed management to reduce the likelihood of crop damage and loss.\n",
      "4. Detecting crop diseases at an early stage and providing farmers with instant diagnosis and advice on how to treat the disease.\n",
      "5. Supporting early warning systems to mitigate risks from weather disasters, diseases, and pests.\n",
      "\n",
      "Overall, AI has the potential to play a significant role in improving food security in Africa, and its unique potential could prove to be a game-changer for the continent.\n",
      "\n",
      "Sources:\n",
      "- https://www.worldbank.org/\n",
      "- https://nai.uu.se/\n",
      "- https://www.brookings.edu/\n",
      "- https://www.sciencedirect.com/\n",
      "- https://www.dw.com/ \n",
      "\n",
      "Note: The above response is based on the search results provided by the tool and may not be a comprehensive or definitive answer to the question.\n"
     ]
    }
   ],
   "source": [
    "# Forming the crew with enhanced configurations\n",
    "crew = Crew(\n",
    "    agents=[topic_researcher],\n",
    "    tasks=[research_task],\n",
    "    process=Process.sequential \n",
    ")\n",
    "\n",
    "# Starting the task execution process with enhanced feedback\n",
    "result = crew.kickoff(inputs={'topic': 'The role of AI in improving food security in Africa'})\n",
    "print(result)"
   ]
  },
  {
   "cell_type": "code",
   "execution_count": 12,
   "id": "37cba7d9",
   "metadata": {},
   "outputs": [],
   "source": [
    "# Add Name and Project Title to PDF \n",
    "from reportlab.lib.pagesizes import A4\n",
    "from reportlab.platypus import SimpleDocTemplate, Paragraph, Spacer\n",
    "from reportlab.lib.styles import getSampleStyleSheet, ParagraphStyle\n",
    "from reportlab.lib.units import inch\n",
    "from datetime import datetime\n",
    "import os\n",
    "\n",
    "def generate_pdf_report(content, filename=\"final_report.pdf\", folder=\"reports\",\n",
    "                        author_name=\"Osita Wisdom Chinedu\",\n",
    "                        project_title=\"AI Research on Food Security in Africa\"):\n",
    "\n",
    "    if not os.path.exists(folder):\n",
    "        os.makedirs(folder)\n",
    "\n",
    "    filepath = os.path.join(folder, filename)\n",
    "    doc = SimpleDocTemplate(filepath, pagesize=A4,\n",
    "                            rightMargin=50, leftMargin=50,\n",
    "                            topMargin=50, bottomMargin=50)\n",
    "\n",
    "    styles = getSampleStyleSheet()\n",
    "\n",
    "    # Rename custom styles to avoid name conflicts\n",
    "    styles.add(ParagraphStyle(name='Justify', alignment=4, leading=14, fontSize=11))\n",
    "    styles.add(ParagraphStyle(name='CustomTitle', parent=styles['Heading1'], alignment=1, fontSize=16, spaceAfter=12))\n",
    "    styles.add(ParagraphStyle(name='CustomSubtitle', alignment=1, fontSize=12, spaceAfter=6))\n",
    "\n",
    "    flowables = []\n",
    "\n",
    "    flowables.append(Paragraph(project_title, styles['CustomTitle']))\n",
    "    flowables.append(Paragraph(f\"Author: {author_name}\", styles['CustomSubtitle']))\n",
    "    flowables.append(Paragraph(f\"Date: {datetime.now().strftime('%B %d, %Y')}\", styles['CustomSubtitle']))\n",
    "    flowables.append(Spacer(1, 12))\n",
    "\n",
    "    for line in content.strip().split(\"\\n\"):\n",
    "        if line.strip() == \"\":\n",
    "            flowables.append(Spacer(1, 10))\n",
    "        else:\n",
    "            flowables.append(Paragraph(line.strip(), styles['Justify']))\n",
    "\n",
    "    doc.build(flowables)\n",
    "    print(f\"✅ PDF report generated at: {filepath}\")\n",
    "    return filepath\n"
   ]
  },
  {
   "cell_type": "code",
   "execution_count": 13,
   "id": "6a841a13",
   "metadata": {},
   "outputs": [],
   "source": [
    "# Add Auto-Email Feature \n",
    "import yagmail\n",
    "import os\n",
    "\n",
    "def send_email_with_attachment(receiver_email, subject, body, attachment_path):\n",
    "\n",
    "    sender_email = os.getenv(\"SENDER_EMAIL\")\n",
    "    sender_password = os.getenv(\"SENDER_PASSWORD\")\n",
    "   \n",
    "\n",
    "    if not sender_email or not sender_password:\n",
    "        raise ValueError(\"Please set SENDER_EMAIL and SENDER_PASSWORD in your environment variables.\")\n",
    "\n",
    "    yag = yagmail.SMTP(sender_email, sender_password)\n",
    "    yag.send(to=receiver_email, subject=subject, contents=body, attachments=attachment_path)\n",
    "\n",
    "    print(f\"\\n📧 Email sent to {receiver_email} with the PDF attachment.\")\n"
   ]
  },
  {
   "cell_type": "code",
   "execution_count": 14,
   "id": "4f32eb85",
   "metadata": {},
   "outputs": [
    {
     "name": "stdout",
     "output_type": "stream",
     "text": [
      "✅ PDF report generated at: reports\\AI_Research_Report.pdf\n"
     ]
    }
   ],
   "source": [
    "# GENERATE PDF\n",
    "pdf_path = generate_pdf_report(\n",
    "    content=str(result),\n",
    "    filename=\"AI_Research_Report.pdf\",\n",
    "    author_name=\"Osita Wisdom Chinedu\",\n",
    "    project_title=\"AI Research on Food Security in Africa\"\n",
    ")"
   ]
  },
  {
   "cell_type": "code",
   "execution_count": 15,
   "id": "1de6cb1b",
   "metadata": {},
   "outputs": [
    {
     "name": "stdout",
     "output_type": "stream",
     "text": [
      "\n",
      "📧 Email sent to ositawisdomc@gmail.com with the PDF attachment.\n"
     ]
    }
   ],
   "source": [
    "# SEND EMAIL\n",
    "send_email_with_attachment(\n",
    "    receiver_email=recipient_email,\n",
    "    subject=\"AI Research Report\",\n",
    "    body=\"Attached is your finalized research report.\",\n",
    "    attachment_path=pdf_path\n",
    ")"
   ]
  },
  {
   "cell_type": "code",
   "execution_count": null,
   "id": "2fdee2c2",
   "metadata": {},
   "outputs": [],
   "source": []
  }
 ],
 "metadata": {
  "kernelspec": {
   "display_name": "researcheragent",
   "language": "python",
   "name": "python3"
  },
  "language_info": {
   "codemirror_mode": {
    "name": "ipython",
    "version": 3
   },
   "file_extension": ".py",
   "mimetype": "text/x-python",
   "name": "python",
   "nbconvert_exporter": "python",
   "pygments_lexer": "ipython3",
   "version": "3.10.0"
  }
 },
 "nbformat": 4,
 "nbformat_minor": 5
}
