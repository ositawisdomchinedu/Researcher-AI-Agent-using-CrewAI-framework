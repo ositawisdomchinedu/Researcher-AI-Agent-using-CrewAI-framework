{
 "cells": [
  {
   "cell_type": "code",
   "execution_count": 1,
   "id": "950b758e",
   "metadata": {},
   "outputs": [],
   "source": [
    "import os\n",
    "from langchain_groq import ChatGroq\n",
    "from dotenv import load_dotenv\n",
    "from crewai import Agent\n",
    "from crewai_tools import SerperDevTool\n",
    "from crewai import Task\n",
    "from crewai import Crew, Process\n",
    "from crewai import LLM\n"
   ]
  },
  {
   "cell_type": "code",
   "execution_count": 2,
   "id": "8a4749ea",
   "metadata": {},
   "outputs": [
    {
     "data": {
      "text/plain": [
       "True"
      ]
     },
     "execution_count": 2,
     "metadata": {},
     "output_type": "execute_result"
    }
   ],
   "source": [
    "# Load environment variables from .env file\n",
    "load_dotenv()"
   ]
  },
  {
   "cell_type": "code",
   "execution_count": 3,
   "id": "e78eb963",
   "metadata": {},
   "outputs": [],
   "source": [
    "# Access the environment variables\n",
    "SERPER_API_KEY = os.getenv(\"SERPER_API_KEY\")\n",
    "GROQ_API_KEY = os.getenv(\"GROQ_API_KEY\")\n",
    "GROQ_API_BASE = os.getenv(\"GROQ_API_BASE\") \n",
    "GROQ_MODEL = os.getenv(\"GROQ_MODEL\",\"groq/llama-3.3-70b-versatile\")\n",
    "\n",
    "\n",
    "sender_email = os.getenv(\"SENDER_EMAIL\")\n",
    "sender_password = os.getenv(\"SENDER_PASSWORD\")\n",
    "recipient_email = os.getenv(\"RECIPIENT_EMAIL\")"
   ]
  },
  {
   "cell_type": "code",
   "execution_count": 4,
   "id": "543991e7",
   "metadata": {},
   "outputs": [],
   "source": [
    "search_tool = SerperDevTool()\n"
   ]
  },
  {
   "cell_type": "code",
   "execution_count": 5,
   "id": "d31bb321",
   "metadata": {},
   "outputs": [],
   "source": [
    "\n",
    "import os\n",
    "from crewai import LLM\n",
    "\n",
    "groq_llm = LLM(\n",
    "        model = GROQ_MODEL,\n",
    "        api_key = GROQ_API_KEY,\n",
    "        base_url = GROQ_API_BASE,\n",
    "        temperature=0.3, \n",
    "        max_tokens=1024)\n",
    "\n",
    "llm = groq_llm"
   ]
  },
  {
   "cell_type": "code",
   "execution_count": 6,
   "id": "6aec7035",
   "metadata": {},
   "outputs": [],
   "source": [
    "# Define your critique logic\n",
    "def critique_text(text):\n",
    "    prompt = (\n",
    "        \"Critically review the following content. Your review must cover:\\n\"\n",
    "        \"- Grammar and spelling errors\\n\"\n",
    "        \"- Clarity and coherence of ideas\\n\"\n",
    "        \"- Tone appropriateness\\n\"\n",
    "        \"- Ethical soundness\\n\"\n",
    "        \"- Legal accuracy\\n\"\n",
    "        \"- Bias detection\\n\"\n",
    "        \"- Factual correctness\\n\\n\"\n",
    "        f\"Text to critique:\\n{text}\\n\\n\"\n",
    "        \"Return a concise critique report with suggested improvements.\"\n",
    "    )\n",
    "    return llm(prompt) \n",
    "\n",
    "self_critique_tool = {\n",
    "    \"name\": \"SelfCritiqueTool\",\n",
    "    \"description\": \"Critiques writing for grammar, clarity, tone, bias, and factual accuracy.\",\n",
    "    \"function\": critique_text\n",
    "}\n",
    "\n",
    "\n",
    "\n"
   ]
  },
  {
   "cell_type": "code",
   "execution_count": 7,
   "id": "ca9a6260",
   "metadata": {},
   "outputs": [],
   "source": [
    "research_writer = Agent(\n",
    "    role=\"Researcher & Writer\",\n",
    "    goal=(\n",
    "        \"Research cutting-edge developments in {topic}, write insightful reports, \"\n",
    "        \"and ensure content quality by performing a thorough critique before delivery.\"\n",
    "    ),\n",
    "    verbose=True,\n",
    "    memory=True,\n",
    "    backstory=\"An expert who researches, writes, and ensures reports are accurate, clear, and ethically sound.\",\n",
    "    tools=[search_tool],\n",
    "    allow_delegation=True,\n",
    "    llm=llm\n",
    ")\n"
   ]
  },
  {
   "cell_type": "code",
   "execution_count": null,
   "id": "c2973310",
   "metadata": {},
   "outputs": [],
   "source": [
    "\n",
    "research_writer_task = Task(\n",
    "    description=(\n",
    "   \"Conduct web research on the topic: '{topic}'. Gather accurate and up-to-date information from credible sources. \"\n",
    "    \"Then, convert the research findings into a professional, well-organized report suitable for PDF format. \"\n",
    "    \"Structure the report using clear headings and subheadings for each subtopic. \"\n",
    "    \"Use bullet points for clarity where needed, ensure smooth flow of ideas, and include properly formatted in-text citations and a references section.\"\n",
    "\n",
    "    ),\n",
    "    expected_output=(\n",
    "       \"- A polished, print-ready PDF report that includes:\\n\"\n",
    "       \"- A formal summary of findings\\n\"\n",
    "       \"- Sections organized by subtopics with clear headings\\n\"\n",
    "       \"- Bullet points or numbered lists for clarity\\n\"\n",
    "       \"- Inline hyperlinks to cited sources\\n\"\n",
    "       \"- A properly formatted references section at the end\\n\"\n",
    "       \"- Clear, professional, and accessible language throughout\"\n",
    "    ),\n",
    "    tools=[search_tool], \n",
    "    agent=research_writer,\n",
    "    output_file=\"final_research_report.pdf\"\n",
    ")\n"
   ]
  },
  {
   "cell_type": "code",
   "execution_count": 9,
   "id": "9fcda6fb",
   "metadata": {},
   "outputs": [
    {
     "name": "stdout",
     "output_type": "stream",
     "text": [
      "\u001b[1m\u001b[95m# Agent:\u001b[00m \u001b[1m\u001b[92mResearcher & Writer\u001b[00m\n",
      "\u001b[95m## Task:\u001b[00m \u001b[92mConduct web research on the topic: 'The role of AI in improving food security in Africa'. Gather accurate and up-to-date information from credible sources. Then, convert the research findings into a well-structured, readable report. Organize the report into clear sections by subtopics and ensure it is written in markdown format for easy readability.\u001b[00m\n",
      "\n",
      "\n",
      "\u001b[1m\u001b[95m# Agent:\u001b[00m \u001b[1m\u001b[92mResearcher & Writer\u001b[00m\n",
      "\u001b[95m## Thought:\u001b[00m \u001b[92mThought: To conduct web research on the topic 'The role of AI in improving food security in Africa', I need to gather accurate and up-to-date information from credible sources. The first step is to search for relevant information on the internet.\u001b[00m\n",
      "\u001b[95m## Using tool:\u001b[00m \u001b[92mSearch the internet with Serper\u001b[00m\n",
      "\u001b[95m## Tool Input:\u001b[00m \u001b[92m\n",
      "\"{\\\"search_query\\\": \\\"The role of AI in improving food security in Africa\\\"}\"\u001b[00m\n",
      "\u001b[95m## Tool Output:\u001b[00m \u001b[92m\n",
      "{'searchParameters': {'q': 'The role of AI in improving food security in Africa', 'type': 'search', 'num': 10, 'engine': 'google'}, 'organic': [{'title': 'Is Artificial Intelligence the future of farming? Exploring opportunities ...', 'link': 'https://blogs.worldbank.org/en/agfood/artificial-interlligence-in-the-future-of-sub-saharan-africa-far', 'snippet': 'AI offers transformative potential for agriculture in Sub-Saharan Africa. It has the power to enhance efficiency, productivity, and sustainability. By promoting collaboration, enacting supportive policies, and investing in innovation, the region can leverage AI in achieving food security and fostering economic growth.', 'position': 1}, {'title': \"Exploring the potential of artificial intelligence to boost Africa's food ...\", 'link': 'https://www.sciencedirect.com/science/article/abs/pii/S2452263523000046', 'snippet': 'AI tools support early warning systems and proactive measures to mitigate risks from weather disasters, diseases, and pests, boosting agricultural yields.', 'position': 2}, {'title': 'AI could improve food security in Africa - The Nordic Africa Institute', 'link': 'https://nai.uu.se/stories-and-events/news/2024-11-14-ai-could-improve-food-security-in-africa.html', 'snippet': 'Artificial intelligence (AI) is being tested in Uganda to help farmers detect crop diseases at an early stage. It also gives them an instant ...', 'position': 3}, {'title': 'How AI can inclusively transform agri-food systems in Africa', 'link': 'https://www.brookings.edu/articles/how-ai-can-inclusively-transform-agri-food-systems-in-africa/', 'snippet': 'AI-enabled advisory services provide farmers with timely, tailored advice to boost yields and manage pests, reducing crop failure, spoilage, and bolstering ...', 'position': 4}, {'title': 'Artificial Intelligence Can Transform Global Food Security and ...', 'link': 'https://unu.edu/article/artificial-intelligence-can-transform-global-food-security-and-climate-action', 'snippet': 'AI will have a profound role in sustainable agriculture and achieving food security as we strive to mitigate and limit climate change impacts.', 'position': 5}, {'title': \"Powered Weeding Is Transforming Africa's Agricultural Future\", 'link': 'https://www.nepad.org/blog/how-artificial-intelligence-ai-powered-weeding-transforming-africas-agricultural-future', 'snippet': 'By automating and optimising weed management, AI can help farmers better control these threats, reducing the likelihood of crop damage and loss.', 'position': 6}, {'title': \"Enhancing Africa's agriculture and food systems through ... - PubMed\", 'link': 'https://pubmed.ncbi.nlm.nih.gov/39917548/', 'snippet': 'Our results demonstrate that responsible AI practices can significantly enhance agricultural productivity while maintaining low carbon ...', 'position': 7}, {'title': 'Leveraging AI to Enhance Food Security and Access in Africa and Asia', 'link': 'https://hamoyehq.medium.com/leveraging-ai-to-enhance-food-security-and-access-in-africa-and-asia-42beaee285a2', 'snippet': 'Artificial intelligence (AI) plays a pivotal role in enhancing food security initiatives in Asia and Africa, offering innovative solutions to ...', 'position': 8}, {'title': \"AI is improving Africa's harvests - U.S. Embassy in Uganda\", 'link': 'https://ug.usembassy.gov/ai-is-improving-africas-harvests/', 'snippet': 'Tiendrebeogo and other farmers in Africa are seeing significant increases in yields, thanks to new artificial intelligence tools.', 'position': 9}, {'title': 'How AI can improve agriculture for better food security - AI for Good', 'link': 'https://aiforgood.itu.int/how-ai-can-improve-agriculture-for-better-food-security/', 'snippet': 'AI assistance can, for instance, enable smallholder farmers in Africa to more effectively address scourges such as viruses and the fall armyworm.', 'position': 10}], 'relatedSearches': [{'query': 'how can technology improve food security'}, {'query': 'ai in agriculture and food security'}, {'query': 'what is food security'}, {'query': 'ai and food security'}, {'query': 'the application of artificial intelligence models for food security: a review'}, {'query': 'making ai work for food security in asean'}, {'query': 'ai in agriculture in africa'}, {'query': 'ai can empower agriculture for global food security: challenges and prospects in developing nations:'}], 'credits': 1}\u001b[00m\n",
      "\n",
      "\n",
      "\u001b[1m\u001b[95m# Agent:\u001b[00m \u001b[1m\u001b[92mResearcher & Writer\u001b[00m\n",
      "\u001b[95m## Thought:\u001b[00m \u001b[92mThought: The search results provide a wealth of information on the role of AI in improving food security in Africa. To further narrow down the search and gather more specific information, I need to conduct another search.\u001b[00m\n",
      "\u001b[95m## Using tool:\u001b[00m \u001b[92mSearch the internet with Serper\u001b[00m\n",
      "\u001b[95m## Tool Input:\u001b[00m \u001b[92m\n",
      "\"{\\\"search_query\\\": \\\"AI applications in African agriculture for food security\\\"}\"\u001b[00m\n",
      "\u001b[95m## Tool Output:\u001b[00m \u001b[92m\n",
      "{'searchParameters': {'q': 'AI applications in African agriculture for food security', 'type': 'search', 'num': 10, 'engine': 'google'}, 'organic': [{'title': 'Is Artificial Intelligence the future of farming? Exploring opportunities ...', 'link': 'https://blogs.worldbank.org/en/agfood/artificial-interlligence-in-the-future-of-sub-saharan-africa-far', 'snippet': 'AI offers transformative potential for agriculture in Sub-Saharan Africa. It has the power to enhance efficiency, productivity, and sustainability. By promoting collaboration, enacting supportive policies, and investing in innovation, the region can leverage AI in achieving food security and fostering economic growth.', 'position': 1}, {'title': 'How AI can inclusively transform agri-food systems in Africa', 'link': 'https://www.brookings.edu/articles/how-ai-can-inclusively-transform-agri-food-systems-in-africa/', 'snippet': 'AI-enabled advisory services provide farmers with timely, tailored advice to boost yields and manage pests, reducing crop failure, spoilage, and bolstering ...', 'position': 2}, {'title': \"Powered Weeding Is Transforming Africa's Agricultural Future\", 'link': 'https://www.nepad.org/blog/how-artificial-intelligence-ai-powered-weeding-transforming-africas-agricultural-future', 'snippet': 'By automating and optimising weed management, AI can help farmers better control these threats, reducing the likelihood of crop damage and loss.', 'position': 3}, {'title': \"Exploring the potential of artificial intelligence to boost Africa's food ...\", 'link': 'https://www.sciencedirect.com/science/article/abs/pii/S2452263523000046', 'snippet': 'AI tools support early warning systems and proactive measures to mitigate risks from weather disasters, diseases, and pests, boosting agricultural yields.', 'position': 4}, {'title': 'AI in Agriculture: Transforming Food Security in Sub-Saharan Africa', 'link': 'https://stanfordeconreview.com/2025/03/12/commentary-ai-in-agriculture-transforming-food-security-in-sub-saharan-africa/', 'snippet': 'AI holds both promise and peril in Sub-Saharan agriculture. Case studies from Kenya and Nigeria demonstrate how AI can catalyze agricultural transformation.', 'position': 5}, {'title': 'Transforming African Agriculture With AI at the Forefront - Omdena', 'link': 'https://www.omdena.com/blog/transforming-african-agriculture-with-ai-at-the-forefront', 'snippet': 'One of the key opportunities lies in crop disease detection, a critical aspect of ensuring food security. Imagine a scenario where AI algorithms ...', 'position': 6}, {'title': 'Digital solutions in agriculture drive meaningful livelihood ...', 'link': 'https://www.brookings.edu/articles/digital-solutions-in-agriculture-drive-meaningful-livelihood-improvements-for-african-smallholder-farmers/', 'snippet': 'Remote sensing technologies and AI are being used for mapping crops using satellite for disease surveillance,21 AI mobile apps for disease ...', 'position': 7}, {'title': 'AI could improve food security in Africa - The Nordic Africa Institute', 'link': 'https://nai.uu.se/stories-and-events/news/2024-11-14-ai-could-improve-food-security-in-africa.html', 'snippet': 'Artificial intelligence (AI) is being tested in Uganda to help farmers detect crop diseases at an early stage. It also gives them an instant ...', 'position': 8}, {'title': \"Enhancing Africa's agriculture and food systems through ... - PubMed\", 'link': 'https://pubmed.ncbi.nlm.nih.gov/39917548/', 'snippet': 'Through a set of case studies, we explore AI-driven solutions for pest and disease detection across crops such as cashew, maize, tomato, and ...', 'position': 9}, {'title': \"7 Projects Using AI to Shape Africa's Food Systems - africalive.net\", 'link': 'https://africalive.net/article/projects-using-ai-to-shape-africas-food-systems/', 'snippet': \"AI's role in monitoring soil and crop health, conducting predictive analyses for pest and disease management, and automating machinery enhances ...\", 'position': 10}], 'credits': 1}\u001b[00m\n",
      "\n",
      "\n",
      "\u001b[1m\u001b[95m# Agent:\u001b[00m \u001b[1m\u001b[92mResearcher & Writer\u001b[00m\n",
      "\u001b[95m## Final Answer:\u001b[00m \u001b[92m\n",
      "# The Role of AI in Improving Food Security in Africa\n",
      "The application of Artificial Intelligence (AI) in African agriculture has the potential to transform the continent's food security landscape. AI offers a wide range of opportunities to enhance efficiency, productivity, and sustainability in agriculture, which can contribute to achieving food security and fostering economic growth.\n",
      "\n",
      "## Introduction to AI in African Agriculture\n",
      "AI can be applied in various ways to improve agricultural productivity and food security in Africa. This includes the use of [AI-enabled advisory services](https://www.brookings.edu/articles/how-ai-can-inclusively-transform-agri-food-systems-in-africa/) that provide farmers with timely and tailored advice to boost yields and manage pests. Additionally, AI can be used for [crop disease detection](https://nai.uu.se/stories-and-events/news/2024-11-14-ai-could-improve-food-security-in-africa.html), which is a critical aspect of ensuring food security.\n",
      "\n",
      "## Applications of AI in African Agriculture\n",
      "There are several applications of AI in African agriculture that can contribute to improving food security. These include:\n",
      "* [AI-powered weeding](https://www.nepad.org/blog/how-artificial-intelligence-ai-powered-weeding-transforming-africas-agricultural-future) that can help farmers better control weeds and reduce the likelihood of crop damage and loss.\n",
      "* [Early warning systems](https://www.sciencedirect.com/science/article/abs/pii/S2452263523000046) that can support proactive measures to mitigate risks from weather disasters, diseases, and pests, boosting agricultural yields.\n",
      "* [Remote sensing technologies](https://www.brookings.edu/articles/digital-solutions-in-agriculture-drive-meaningful-livelihood-improvements-for-african-smallholder-farmers/) that can be used for mapping crops and disease surveillance.\n",
      "\n",
      "## Case Studies and Projects\n",
      "There are several case studies and projects that demonstrate the potential of AI in improving food security in Africa. For example, [AI is being tested in Uganda](https://nai.uu.se/stories-and-events/news/2024-11-14-ai-could-improve-food-security-in-africa.html) to help farmers detect crop diseases at an early stage. Additionally, there are [7 projects using AI to shape Africa's food systems](https://africalive.net/article/projects-using-ai-to-shape-africas-food-systems/), including monitoring soil and crop health, conducting predictive analyses for pest and disease management, and automating machinery.\n",
      "\n",
      "## Conclusion\n",
      "In conclusion, the application of AI in African agriculture has the potential to transform the continent's food security landscape. With its ability to enhance efficiency, productivity, and sustainability, AI can contribute to achieving food security and fostering economic growth. As demonstrated by various case studies and projects, AI can be applied in various ways to improve agricultural productivity and food security in Africa.\n",
      "\n",
      "For more information, please visit the following sources:\n",
      "* [The World Bank](https://blogs.worldbank.org/en/agfood/artificial-interlligence-in-the-future-of-sub-saharan-africa-far)\n",
      "* [The Brookings Institution](https://www.brookings.edu/articles/how-ai-can-inclusively-transform-agri-food-systems-in-africa/)\n",
      "* [The Nordic Africa Institute](https://nai.uu.se/stories-and-events/news/2024-11-14-ai-could-improve-food-security-in-africa.html)\n",
      "* [Science Direct](https://www.sciencedirect.com/science/article/abs/pii/S2452263523000046)\u001b[00m\n",
      "\n",
      "\n",
      "# The Role of AI in Improving Food Security in Africa\n",
      "The application of Artificial Intelligence (AI) in African agriculture has the potential to transform the continent's food security landscape. AI offers a wide range of opportunities to enhance efficiency, productivity, and sustainability in agriculture, which can contribute to achieving food security and fostering economic growth.\n",
      "\n",
      "## Introduction to AI in African Agriculture\n",
      "AI can be applied in various ways to improve agricultural productivity and food security in Africa. This includes the use of [AI-enabled advisory services](https://www.brookings.edu/articles/how-ai-can-inclusively-transform-agri-food-systems-in-africa/) that provide farmers with timely and tailored advice to boost yields and manage pests. Additionally, AI can be used for [crop disease detection](https://nai.uu.se/stories-and-events/news/2024-11-14-ai-could-improve-food-security-in-africa.html), which is a critical aspect of ensuring food security.\n",
      "\n",
      "## Applications of AI in African Agriculture\n",
      "There are several applications of AI in African agriculture that can contribute to improving food security. These include:\n",
      "* [AI-powered weeding](https://www.nepad.org/blog/how-artificial-intelligence-ai-powered-weeding-transforming-africas-agricultural-future) that can help farmers better control weeds and reduce the likelihood of crop damage and loss.\n",
      "* [Early warning systems](https://www.sciencedirect.com/science/article/abs/pii/S2452263523000046) that can support proactive measures to mitigate risks from weather disasters, diseases, and pests, boosting agricultural yields.\n",
      "* [Remote sensing technologies](https://www.brookings.edu/articles/digital-solutions-in-agriculture-drive-meaningful-livelihood-improvements-for-african-smallholder-farmers/) that can be used for mapping crops and disease surveillance.\n",
      "\n",
      "## Case Studies and Projects\n",
      "There are several case studies and projects that demonstrate the potential of AI in improving food security in Africa. For example, [AI is being tested in Uganda](https://nai.uu.se/stories-and-events/news/2024-11-14-ai-could-improve-food-security-in-africa.html) to help farmers detect crop diseases at an early stage. Additionally, there are [7 projects using AI to shape Africa's food systems](https://africalive.net/article/projects-using-ai-to-shape-africas-food-systems/), including monitoring soil and crop health, conducting predictive analyses for pest and disease management, and automating machinery.\n",
      "\n",
      "## Conclusion\n",
      "In conclusion, the application of AI in African agriculture has the potential to transform the continent's food security landscape. With its ability to enhance efficiency, productivity, and sustainability, AI can contribute to achieving food security and fostering economic growth. As demonstrated by various case studies and projects, AI can be applied in various ways to improve agricultural productivity and food security in Africa.\n",
      "\n",
      "For more information, please visit the following sources:\n",
      "* [The World Bank](https://blogs.worldbank.org/en/agfood/artificial-interlligence-in-the-future-of-sub-saharan-africa-far)\n",
      "* [The Brookings Institution](https://www.brookings.edu/articles/how-ai-can-inclusively-transform-agri-food-systems-in-africa/)\n",
      "* [The Nordic Africa Institute](https://nai.uu.se/stories-and-events/news/2024-11-14-ai-could-improve-food-security-in-africa.html)\n",
      "* [Science Direct](https://www.sciencedirect.com/science/article/abs/pii/S2452263523000046)\n"
     ]
    }
   ],
   "source": [
    "# Forming the crew with enhanced configurations\n",
    "crew = Crew(\n",
    "    agents=[research_writer],\n",
    "    tasks=[research_writer_task],\n",
    "    process=Process.sequential \n",
    ")\n",
    "\n",
    "# Starting the task execution process with enhanced feedback\n",
    "result = crew.kickoff(inputs={'topic': 'The role of AI in improving food security in Africa'})\n",
    "print(result)"
   ]
  },
  {
   "cell_type": "code",
   "execution_count": null,
   "id": "5104ed28",
   "metadata": {},
   "outputs": [],
   "source": [
    "import re\n",
    "from reportlab.lib.pagesizes import A4\n",
    "from reportlab.platypus import SimpleDocTemplate, Paragraph, Spacer\n",
    "from reportlab.lib.styles import getSampleStyleSheet, ParagraphStyle\n",
    "from reportlab.lib.units import inch\n",
    "from datetime import datetime\n",
    "import os\n",
    "\n",
    "def markdown_to_plaintext(line):\n",
    "    # Convert markdown headers\n",
    "    if line.startswith(\"## \"):\n",
    "        return f\"<b>{line.replace('## ', '').strip().upper()}</b>\"\n",
    "    elif line.startswith(\"# \"):\n",
    "        return f\"<b>{line.replace('# ', '').strip().upper()}</b>\"\n",
    "    # Convert bullets\n",
    "    line = re.sub(r\"^\\* \", \"• \", line)\n",
    "    # Convert bold\n",
    "    line = re.sub(r\"\\*\\*(.*?)\\*\\*\", r\"<b>\\1</b>\", line)\n",
    "    return line.strip()\n",
    "\n",
    "def generate_pdf_report(content, filename=\"final_report.pdf\", folder=\"reports\",\n",
    "                        author_name=\"Osita Wisdom Chinedu\",\n",
    "                        project_title=\"AI Research on Food Security in Africa\"):\n",
    "\n",
    "    if not os.path.exists(folder):\n",
    "        os.makedirs(folder)\n",
    "\n",
    "    filepath = os.path.join(folder, filename)\n",
    "    doc = SimpleDocTemplate(filepath, pagesize=A4,\n",
    "                            rightMargin=50, leftMargin=50,\n",
    "                            topMargin=50, bottomMargin=50)\n",
    "\n",
    "    styles = getSampleStyleSheet()\n",
    "    styles.add(ParagraphStyle(name='Justify', alignment=4, leading=14, fontSize=11))\n",
    "    styles.add(ParagraphStyle(name='CustomTitle', parent=styles['Heading1'], alignment=1, fontSize=16, spaceAfter=12))\n",
    "    styles.add(ParagraphStyle(name='CustomSubtitle', alignment=1, fontSize=12, spaceAfter=6))\n",
    "\n",
    "    flowables = []\n",
    "    flowables.append(Paragraph(project_title, styles['CustomTitle']))\n",
    "    flowables.append(Paragraph(f\"Author: {author_name}\", styles['CustomSubtitle']))\n",
    "    flowables.append(Paragraph(f\"Date: {datetime.now().strftime('%B %d, %Y')}\", styles['CustomSubtitle']))\n",
    "    flowables.append(Spacer(1, 12))\n",
    "\n",
    "    for line in content.strip().split(\"\\n\"):\n",
    "        if line.strip() == \"\":\n",
    "            flowables.append(Spacer(1, 10))\n",
    "        else:\n",
    "            clean_line = markdown_to_plaintext(line)\n",
    "            flowables.append(Paragraph(clean_line, styles['Justify']))\n",
    "\n",
    "    doc.build(flowables)\n",
    "    print(f\"✅ PDF report generated at: {filepath}\")\n",
    "    return filepath\n"
   ]
  },
  {
   "cell_type": "code",
   "execution_count": 11,
   "id": "24251943",
   "metadata": {},
   "outputs": [],
   "source": [
    "# Add Auto-Email Feature \n",
    "import yagmail\n",
    "import os\n",
    "\n",
    "def send_email_with_attachment(receiver_email, subject, body, attachment_path):\n",
    "\n",
    "    sender_email = os.getenv(\"SENDER_EMAIL\")\n",
    "    sender_password = os.getenv(\"SENDER_PASSWORD\")\n",
    "   \n",
    "\n",
    "    if not sender_email or not sender_password:\n",
    "        raise ValueError(\"Please set SENDER_EMAIL and SENDER_PASSWORD in your environment variables.\")\n",
    "\n",
    "    yag = yagmail.SMTP(sender_email, sender_password)\n",
    "    yag.send(to=receiver_email, subject=subject, contents=body, attachments=attachment_path)\n",
    "\n",
    "    print(f\"\\n📧 Email sent to {receiver_email} with the PDF attachment.\")"
   ]
  },
  {
   "cell_type": "code",
   "execution_count": 12,
   "id": "dfdab730",
   "metadata": {},
   "outputs": [
    {
     "name": "stdout",
     "output_type": "stream",
     "text": [
      "✅ PDF report generated at: reports\\AI_Research_Report.pdf\n"
     ]
    }
   ],
   "source": [
    "# GENERATE PDF\n",
    "pdf_path = generate_pdf_report(\n",
    "    content=str(result),\n",
    "    filename=\"AI_Research_Report.pdf\",\n",
    "    author_name=\"Osita Wisdom Chinedu\",\n",
    "    project_title=\"AI Research on Food Security in Africa\"\n",
    ")"
   ]
  },
  {
   "cell_type": "code",
   "execution_count": 13,
   "id": "9fa68dd0",
   "metadata": {},
   "outputs": [
    {
     "name": "stdout",
     "output_type": "stream",
     "text": [
      "\n",
      "📧 Email sent to ositawisdomc@gmail.com with the PDF attachment.\n"
     ]
    }
   ],
   "source": [
    "# SEND EMAIL\n",
    "send_email_with_attachment(\n",
    "    receiver_email=recipient_email,\n",
    "    subject=\"AI Research Report\",\n",
    "    body=\"Attached is your finalized research report.\",\n",
    "    attachment_path=pdf_path)"
   ]
  }
 ],
 "metadata": {
  "kernelspec": {
   "display_name": "researcheragent",
   "language": "python",
   "name": "python3"
  },
  "language_info": {
   "codemirror_mode": {
    "name": "ipython",
    "version": 3
   },
   "file_extension": ".py",
   "mimetype": "text/x-python",
   "name": "python",
   "nbconvert_exporter": "python",
   "pygments_lexer": "ipython3",
   "version": "3.10.0"
  }
 },
 "nbformat": 4,
 "nbformat_minor": 5
}
